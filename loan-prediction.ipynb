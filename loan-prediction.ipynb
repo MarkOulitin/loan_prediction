{
  "metadata": {
    "kernelspec": {
      "language": "python",
      "display_name": "Python 3",
      "name": "python3"
    },
    "language_info": {
      "name": "python",
      "version": "3.7.12",
      "mimetype": "text/x-python",
      "codemirror_mode": {
        "name": "ipython",
        "version": 3
      },
      "pygments_lexer": "ipython3",
      "nbconvert_exporter": "python",
      "file_extension": ".py"
    },
    "colab": {
      "provenance": []
    }
  },
  "nbformat_minor": 0,
  "nbformat": 4,
  "cells": [
    {
      "cell_type": "code",
      "source": [
        "%matplotlib inline\n",
        "import pandas as pd\n",
        "import numpy as np\n",
        "import matplotlib.pyplot as plt\n",
        "from tensorflow.keras.layers import Dense\n",
        "from sklearn.model_selection import train_test_split\n",
        "from sklearn.metrics import classification_report, confusion_matrix\n",
        "from sklearn.tree import DecisionTreeClassifier\n",
        "from tensorflow.keras.models import Sequential\n",
        "import seaborn as sns"
      ],
      "metadata": {
        "_uuid": "8f2839f25d086af736a60e9eeb907d3b93b6e0e5",
        "_cell_guid": "b1076dfc-b9ad-4769-8c92-a6c4dae69d19",
        "pycharm": {
          "is_executing": true
        },
        "execution": {
          "iopub.status.busy": "2022-01-24T20:24:24.056767Z",
          "iopub.execute_input": "2022-01-24T20:24:24.057155Z",
          "iopub.status.idle": "2022-01-24T20:24:31.969344Z",
          "shell.execute_reply.started": "2022-01-24T20:24:24.057059Z",
          "shell.execute_reply": "2022-01-24T20:24:31.968449Z"
        },
        "trusted": true,
        "id": "dSPHDgvxRXls"
      },
      "execution_count": 1,
      "outputs": []
    },
    {
      "cell_type": "code",
      "source": [
        "loans = pd.read_csv('./input/SBAnational.csv')\n",
        "loans.head()"
      ],
      "metadata": {
        "pycharm": {
          "is_executing": true
        },
        "execution": {
          "iopub.status.busy": "2022-01-24T20:24:31.971293Z",
          "iopub.execute_input": "2022-01-24T20:24:31.971697Z",
          "iopub.status.idle": "2022-01-24T20:24:38.867401Z",
          "shell.execute_reply.started": "2022-01-24T20:24:31.971658Z",
          "shell.execute_reply": "2022-01-24T20:24:38.866463Z"
        },
        "trusted": true,
        "colab": {
          "base_uri": "https://localhost:8080/",
          "height": 578
        },
        "id": "TYXqSayuRXlt",
        "outputId": "21fefccc-dda2-4c22-a682-8712a6215340"
      },
      "execution_count": 6,
      "outputs": [
        {
          "output_type": "stream",
          "name": "stderr",
          "text": [
            "/usr/local/lib/python3.8/dist-packages/IPython/core/interactiveshell.py:3326: DtypeWarning: Columns (9) have mixed types.Specify dtype option on import or set low_memory=False.\n",
            "  exec(code_obj, self.user_global_ns, self.user_ns)\n"
          ]
        },
        {
          "output_type": "execute_result",
          "data": {
            "text/plain": [
              "   LoanNr_ChkDgt                           Name          City State    Zip  \\\n",
              "0     1000014003                 ABC HOBBYCRAFT    EVANSVILLE    IN  47711   \n",
              "1     1000024006    LANDMARK BAR & GRILLE (THE)     NEW PARIS    IN  46526   \n",
              "2     1000034009          WHITLOCK DDS, TODD M.   BLOOMINGTON    IN  47401   \n",
              "3     1000044001  BIG BUCKS PAWN & JEWELRY, LLC  BROKEN ARROW    OK  74012   \n",
              "4     1000054004    ANASTASIA CONFECTIONS, INC.       ORLANDO    FL  32801   \n",
              "\n",
              "                            Bank BankState   NAICS ApprovalDate ApprovalFY  \\\n",
              "0               FIFTH THIRD BANK        OH  451120    28-Feb-97       1997   \n",
              "1                1ST SOURCE BANK        IN  722410    28-Feb-97       1997   \n",
              "2        GRANT COUNTY STATE BANK        IN  621210    28-Feb-97       1997   \n",
              "3  1ST NATL BK & TR CO OF BROKEN        OK       0    28-Feb-97       1997   \n",
              "4        FLORIDA BUS. DEVEL CORP        FL       0    28-Feb-97       1997   \n",
              "\n",
              "   ...  RevLineCr  LowDoc  ChgOffDate  DisbursementDate  DisbursementGross  \\\n",
              "0  ...          N       Y         NaN         28-Feb-99        $60,000.00    \n",
              "1  ...          N       Y         NaN         31-May-97        $40,000.00    \n",
              "2  ...          N       N         NaN         31-Dec-97       $287,000.00    \n",
              "3  ...          N       Y         NaN         30-Jun-97        $35,000.00    \n",
              "4  ...          N       N         NaN         14-May-97       $229,000.00    \n",
              "\n",
              "   BalanceGross  MIS_Status ChgOffPrinGr        GrAppv      SBA_Appv  \n",
              "0        $0.00        P I F       $0.00    $60,000.00    $48,000.00   \n",
              "1        $0.00        P I F       $0.00    $40,000.00    $32,000.00   \n",
              "2        $0.00        P I F       $0.00   $287,000.00   $215,250.00   \n",
              "3        $0.00        P I F       $0.00    $35,000.00    $28,000.00   \n",
              "4        $0.00        P I F       $0.00   $229,000.00   $229,000.00   \n",
              "\n",
              "[5 rows x 27 columns]"
            ],
            "text/html": [
              "\n",
              "  <div id=\"df-894941f5-e283-4854-90a0-476c180936a2\">\n",
              "    <div class=\"colab-df-container\">\n",
              "      <div>\n",
              "<style scoped>\n",
              "    .dataframe tbody tr th:only-of-type {\n",
              "        vertical-align: middle;\n",
              "    }\n",
              "\n",
              "    .dataframe tbody tr th {\n",
              "        vertical-align: top;\n",
              "    }\n",
              "\n",
              "    .dataframe thead th {\n",
              "        text-align: right;\n",
              "    }\n",
              "</style>\n",
              "<table border=\"1\" class=\"dataframe\">\n",
              "  <thead>\n",
              "    <tr style=\"text-align: right;\">\n",
              "      <th></th>\n",
              "      <th>LoanNr_ChkDgt</th>\n",
              "      <th>Name</th>\n",
              "      <th>City</th>\n",
              "      <th>State</th>\n",
              "      <th>Zip</th>\n",
              "      <th>Bank</th>\n",
              "      <th>BankState</th>\n",
              "      <th>NAICS</th>\n",
              "      <th>ApprovalDate</th>\n",
              "      <th>ApprovalFY</th>\n",
              "      <th>...</th>\n",
              "      <th>RevLineCr</th>\n",
              "      <th>LowDoc</th>\n",
              "      <th>ChgOffDate</th>\n",
              "      <th>DisbursementDate</th>\n",
              "      <th>DisbursementGross</th>\n",
              "      <th>BalanceGross</th>\n",
              "      <th>MIS_Status</th>\n",
              "      <th>ChgOffPrinGr</th>\n",
              "      <th>GrAppv</th>\n",
              "      <th>SBA_Appv</th>\n",
              "    </tr>\n",
              "  </thead>\n",
              "  <tbody>\n",
              "    <tr>\n",
              "      <th>0</th>\n",
              "      <td>1000014003</td>\n",
              "      <td>ABC HOBBYCRAFT</td>\n",
              "      <td>EVANSVILLE</td>\n",
              "      <td>IN</td>\n",
              "      <td>47711</td>\n",
              "      <td>FIFTH THIRD BANK</td>\n",
              "      <td>OH</td>\n",
              "      <td>451120</td>\n",
              "      <td>28-Feb-97</td>\n",
              "      <td>1997</td>\n",
              "      <td>...</td>\n",
              "      <td>N</td>\n",
              "      <td>Y</td>\n",
              "      <td>NaN</td>\n",
              "      <td>28-Feb-99</td>\n",
              "      <td>$60,000.00</td>\n",
              "      <td>$0.00</td>\n",
              "      <td>P I F</td>\n",
              "      <td>$0.00</td>\n",
              "      <td>$60,000.00</td>\n",
              "      <td>$48,000.00</td>\n",
              "    </tr>\n",
              "    <tr>\n",
              "      <th>1</th>\n",
              "      <td>1000024006</td>\n",
              "      <td>LANDMARK BAR &amp; GRILLE (THE)</td>\n",
              "      <td>NEW PARIS</td>\n",
              "      <td>IN</td>\n",
              "      <td>46526</td>\n",
              "      <td>1ST SOURCE BANK</td>\n",
              "      <td>IN</td>\n",
              "      <td>722410</td>\n",
              "      <td>28-Feb-97</td>\n",
              "      <td>1997</td>\n",
              "      <td>...</td>\n",
              "      <td>N</td>\n",
              "      <td>Y</td>\n",
              "      <td>NaN</td>\n",
              "      <td>31-May-97</td>\n",
              "      <td>$40,000.00</td>\n",
              "      <td>$0.00</td>\n",
              "      <td>P I F</td>\n",
              "      <td>$0.00</td>\n",
              "      <td>$40,000.00</td>\n",
              "      <td>$32,000.00</td>\n",
              "    </tr>\n",
              "    <tr>\n",
              "      <th>2</th>\n",
              "      <td>1000034009</td>\n",
              "      <td>WHITLOCK DDS, TODD M.</td>\n",
              "      <td>BLOOMINGTON</td>\n",
              "      <td>IN</td>\n",
              "      <td>47401</td>\n",
              "      <td>GRANT COUNTY STATE BANK</td>\n",
              "      <td>IN</td>\n",
              "      <td>621210</td>\n",
              "      <td>28-Feb-97</td>\n",
              "      <td>1997</td>\n",
              "      <td>...</td>\n",
              "      <td>N</td>\n",
              "      <td>N</td>\n",
              "      <td>NaN</td>\n",
              "      <td>31-Dec-97</td>\n",
              "      <td>$287,000.00</td>\n",
              "      <td>$0.00</td>\n",
              "      <td>P I F</td>\n",
              "      <td>$0.00</td>\n",
              "      <td>$287,000.00</td>\n",
              "      <td>$215,250.00</td>\n",
              "    </tr>\n",
              "    <tr>\n",
              "      <th>3</th>\n",
              "      <td>1000044001</td>\n",
              "      <td>BIG BUCKS PAWN &amp; JEWELRY, LLC</td>\n",
              "      <td>BROKEN ARROW</td>\n",
              "      <td>OK</td>\n",
              "      <td>74012</td>\n",
              "      <td>1ST NATL BK &amp; TR CO OF BROKEN</td>\n",
              "      <td>OK</td>\n",
              "      <td>0</td>\n",
              "      <td>28-Feb-97</td>\n",
              "      <td>1997</td>\n",
              "      <td>...</td>\n",
              "      <td>N</td>\n",
              "      <td>Y</td>\n",
              "      <td>NaN</td>\n",
              "      <td>30-Jun-97</td>\n",
              "      <td>$35,000.00</td>\n",
              "      <td>$0.00</td>\n",
              "      <td>P I F</td>\n",
              "      <td>$0.00</td>\n",
              "      <td>$35,000.00</td>\n",
              "      <td>$28,000.00</td>\n",
              "    </tr>\n",
              "    <tr>\n",
              "      <th>4</th>\n",
              "      <td>1000054004</td>\n",
              "      <td>ANASTASIA CONFECTIONS, INC.</td>\n",
              "      <td>ORLANDO</td>\n",
              "      <td>FL</td>\n",
              "      <td>32801</td>\n",
              "      <td>FLORIDA BUS. DEVEL CORP</td>\n",
              "      <td>FL</td>\n",
              "      <td>0</td>\n",
              "      <td>28-Feb-97</td>\n",
              "      <td>1997</td>\n",
              "      <td>...</td>\n",
              "      <td>N</td>\n",
              "      <td>N</td>\n",
              "      <td>NaN</td>\n",
              "      <td>14-May-97</td>\n",
              "      <td>$229,000.00</td>\n",
              "      <td>$0.00</td>\n",
              "      <td>P I F</td>\n",
              "      <td>$0.00</td>\n",
              "      <td>$229,000.00</td>\n",
              "      <td>$229,000.00</td>\n",
              "    </tr>\n",
              "  </tbody>\n",
              "</table>\n",
              "<p>5 rows × 27 columns</p>\n",
              "</div>\n",
              "      <button class=\"colab-df-convert\" onclick=\"convertToInteractive('df-894941f5-e283-4854-90a0-476c180936a2')\"\n",
              "              title=\"Convert this dataframe to an interactive table.\"\n",
              "              style=\"display:none;\">\n",
              "        \n",
              "  <svg xmlns=\"http://www.w3.org/2000/svg\" height=\"24px\"viewBox=\"0 0 24 24\"\n",
              "       width=\"24px\">\n",
              "    <path d=\"M0 0h24v24H0V0z\" fill=\"none\"/>\n",
              "    <path d=\"M18.56 5.44l.94 2.06.94-2.06 2.06-.94-2.06-.94-.94-2.06-.94 2.06-2.06.94zm-11 1L8.5 8.5l.94-2.06 2.06-.94-2.06-.94L8.5 2.5l-.94 2.06-2.06.94zm10 10l.94 2.06.94-2.06 2.06-.94-2.06-.94-.94-2.06-.94 2.06-2.06.94z\"/><path d=\"M17.41 7.96l-1.37-1.37c-.4-.4-.92-.59-1.43-.59-.52 0-1.04.2-1.43.59L10.3 9.45l-7.72 7.72c-.78.78-.78 2.05 0 2.83L4 21.41c.39.39.9.59 1.41.59.51 0 1.02-.2 1.41-.59l7.78-7.78 2.81-2.81c.8-.78.8-2.07 0-2.86zM5.41 20L4 18.59l7.72-7.72 1.47 1.35L5.41 20z\"/>\n",
              "  </svg>\n",
              "      </button>\n",
              "      \n",
              "  <style>\n",
              "    .colab-df-container {\n",
              "      display:flex;\n",
              "      flex-wrap:wrap;\n",
              "      gap: 12px;\n",
              "    }\n",
              "\n",
              "    .colab-df-convert {\n",
              "      background-color: #E8F0FE;\n",
              "      border: none;\n",
              "      border-radius: 50%;\n",
              "      cursor: pointer;\n",
              "      display: none;\n",
              "      fill: #1967D2;\n",
              "      height: 32px;\n",
              "      padding: 0 0 0 0;\n",
              "      width: 32px;\n",
              "    }\n",
              "\n",
              "    .colab-df-convert:hover {\n",
              "      background-color: #E2EBFA;\n",
              "      box-shadow: 0px 1px 2px rgba(60, 64, 67, 0.3), 0px 1px 3px 1px rgba(60, 64, 67, 0.15);\n",
              "      fill: #174EA6;\n",
              "    }\n",
              "\n",
              "    [theme=dark] .colab-df-convert {\n",
              "      background-color: #3B4455;\n",
              "      fill: #D2E3FC;\n",
              "    }\n",
              "\n",
              "    [theme=dark] .colab-df-convert:hover {\n",
              "      background-color: #434B5C;\n",
              "      box-shadow: 0px 1px 3px 1px rgba(0, 0, 0, 0.15);\n",
              "      filter: drop-shadow(0px 1px 2px rgba(0, 0, 0, 0.3));\n",
              "      fill: #FFFFFF;\n",
              "    }\n",
              "  </style>\n",
              "\n",
              "      <script>\n",
              "        const buttonEl =\n",
              "          document.querySelector('#df-894941f5-e283-4854-90a0-476c180936a2 button.colab-df-convert');\n",
              "        buttonEl.style.display =\n",
              "          google.colab.kernel.accessAllowed ? 'block' : 'none';\n",
              "\n",
              "        async function convertToInteractive(key) {\n",
              "          const element = document.querySelector('#df-894941f5-e283-4854-90a0-476c180936a2');\n",
              "          const dataTable =\n",
              "            await google.colab.kernel.invokeFunction('convertToInteractive',\n",
              "                                                     [key], {});\n",
              "          if (!dataTable) return;\n",
              "\n",
              "          const docLinkHtml = 'Like what you see? Visit the ' +\n",
              "            '<a target=\"_blank\" href=https://colab.research.google.com/notebooks/data_table.ipynb>data table notebook</a>'\n",
              "            + ' to learn more about interactive tables.';\n",
              "          element.innerHTML = '';\n",
              "          dataTable['output_type'] = 'display_data';\n",
              "          await google.colab.output.renderOutput(dataTable, element);\n",
              "          const docLink = document.createElement('div');\n",
              "          docLink.innerHTML = docLinkHtml;\n",
              "          element.appendChild(docLink);\n",
              "        }\n",
              "      </script>\n",
              "    </div>\n",
              "  </div>\n",
              "  "
            ]
          },
          "metadata": {},
          "execution_count": 6
        }
      ]
    },
    {
      "cell_type": "code",
      "source": [
        "loans.shape"
      ],
      "metadata": {
        "pycharm": {
          "is_executing": true
        },
        "execution": {
          "iopub.status.busy": "2022-01-24T20:24:38.868779Z",
          "iopub.execute_input": "2022-01-24T20:24:38.869073Z",
          "iopub.status.idle": "2022-01-24T20:24:38.875838Z",
          "shell.execute_reply.started": "2022-01-24T20:24:38.869031Z",
          "shell.execute_reply": "2022-01-24T20:24:38.874694Z"
        },
        "trusted": true,
        "colab": {
          "base_uri": "https://localhost:8080/"
        },
        "id": "f7JBZBkiRXlt",
        "outputId": "fc83fc34-6cbd-4a35-aac8-b3b3e5f99d26"
      },
      "execution_count": 7,
      "outputs": [
        {
          "output_type": "execute_result",
          "data": {
            "text/plain": [
              "(899164, 27)"
            ]
          },
          "metadata": {},
          "execution_count": 7
        }
      ]
    },
    {
      "cell_type": "markdown",
      "source": [
        "# **Data Understanding**"
      ],
      "metadata": {
        "id": "CUXoKH5wRXlu"
      }
    },
    {
      "cell_type": "code",
      "source": [
        "loans.isnull().sum()"
      ],
      "metadata": {
        "pycharm": {
          "name": "#%%\n",
          "is_executing": true
        },
        "jupyter": {
          "outputs_hidden": false
        },
        "execution": {
          "iopub.status.busy": "2022-01-24T20:24:38.877626Z",
          "iopub.execute_input": "2022-01-24T20:24:38.878087Z",
          "iopub.status.idle": "2022-01-24T20:24:40.521317Z",
          "shell.execute_reply.started": "2022-01-24T20:24:38.878042Z",
          "shell.execute_reply": "2022-01-24T20:24:40.520483Z"
        },
        "trusted": true,
        "colab": {
          "base_uri": "https://localhost:8080/"
        },
        "id": "pgwlY9knRXlu",
        "outputId": "ee621a26-258b-4802-81e7-ddc76d0a1833"
      },
      "execution_count": 8,
      "outputs": [
        {
          "output_type": "execute_result",
          "data": {
            "text/plain": [
              "LoanNr_ChkDgt             0\n",
              "Name                     14\n",
              "City                     30\n",
              "State                    14\n",
              "Zip                       0\n",
              "Bank                   1559\n",
              "BankState              1566\n",
              "NAICS                     0\n",
              "ApprovalDate              0\n",
              "ApprovalFY                0\n",
              "Term                      0\n",
              "NoEmp                     0\n",
              "NewExist                136\n",
              "CreateJob                 0\n",
              "RetainedJob               0\n",
              "FranchiseCode             0\n",
              "UrbanRural                0\n",
              "RevLineCr              4528\n",
              "LowDoc                 2582\n",
              "ChgOffDate           736465\n",
              "DisbursementDate       2368\n",
              "DisbursementGross         0\n",
              "BalanceGross              0\n",
              "MIS_Status             1997\n",
              "ChgOffPrinGr              0\n",
              "GrAppv                    0\n",
              "SBA_Appv                  0\n",
              "dtype: int64"
            ]
          },
          "metadata": {},
          "execution_count": 8
        }
      ]
    },
    {
      "cell_type": "code",
      "source": [
        "cor_fig, cor_ax = plt.subplots(figsize=(15, 10))\n",
        "# we nneded to make MIS_Status binary in order to display it in the correlation matrix\n",
        "# it is a part of the data preparation\n",
        "loans['Defaulted'] = [1 if app == 'CHGOFF' else 0 for app in loans.MIS_Status.values]\n",
        "corr_matrix = loans.corr()\n",
        "cor_ax = sns.heatmap(corr_matrix, annot=True)\n",
        "plt.xticks(rotation=30, horizontalalignment='right', fontsize=22)\n",
        "plt.yticks(fontsize=22)\n",
        "\n",
        "plt.savefig('correlation.png')\n",
        "plt.show()"
      ],
      "metadata": {
        "pycharm": {
          "name": "#%%\n",
          "is_executing": true
        },
        "jupyter": {
          "outputs_hidden": false
        },
        "execution": {
          "iopub.status.busy": "2022-01-24T20:24:40.524018Z",
          "iopub.execute_input": "2022-01-24T20:24:40.524374Z",
          "iopub.status.idle": "2022-01-24T20:24:42.691335Z",
          "shell.execute_reply.started": "2022-01-24T20:24:40.524330Z",
          "shell.execute_reply": "2022-01-24T20:24:42.690423Z"
        },
        "trusted": true,
        "colab": {
          "base_uri": "https://localhost:8080/",
          "height": 689
        },
        "id": "XrNiLivWRXlu",
        "outputId": "1816e93d-d489-4db5-d80f-b7dea0a105c5"
      },
      "execution_count": 9,
      "outputs": [
        {
          "output_type": "display_data",
          "data": {
            "text/plain": [
              "<Figure size 1080x720 with 2 Axes>"
            ],
            "image/png": "[encoded data removed]"
          },
          "metadata": {
            "needs_background": "light"
          }
        }
      ]
    },
    {
      "cell_type": "code",
      "source": [
        "fig2 = plt.figure(figsize=(20,8))\n",
        "ax1 = fig2.add_subplot(1, 2, 1)\n",
        "plt.rcParams.update({'font.size': 14})\n",
        "sns.countplot(x=\"NewExist\", hue=\"Defaulted\", data=loans)\n",
        "plt.legend()\n",
        "\n",
        "labels = (\"NULL\", \"NEW BUSINESS\", \"EXISTING BUSINESS\")\n",
        "positions = (0, 1, 2)\n",
        "plt.xticks(positions, labels)\n",
        "plt.savefig('new_exist.png')\n",
        "plt.show()"
      ],
      "metadata": {
        "pycharm": {
          "name": "#%%\n",
          "is_executing": true
        },
        "jupyter": {
          "outputs_hidden": false
        },
        "execution": {
          "iopub.status.busy": "2022-01-24T20:24:42.693033Z",
          "iopub.execute_input": "2022-01-24T20:24:42.693608Z",
          "iopub.status.idle": "2022-01-24T20:24:43.133669Z",
          "shell.execute_reply.started": "2022-01-24T20:24:42.693562Z",
          "shell.execute_reply": "2022-01-24T20:24:43.132676Z"
        },
        "trusted": true,
        "colab": {
          "base_uri": "https://localhost:8080/",
          "height": 497
        },
        "id": "PDbod-ScRXlv",
        "outputId": "a00f8165-85e9-42c0-9bee-1ff5b0a92339"
      },
      "execution_count": 10,
      "outputs": [
        {
          "output_type": "display_data",
          "data": {
            "text/plain": [
              "<Figure size 1440x576 with 1 Axes>"
            ],
            "image/png": "[encoded data removed]"
          },
          "metadata": {
            "needs_background": "light"
          }
        }
      ]
    },
    {
      "cell_type": "code",
      "source": [
        "fig3 = plt.figure(figsize=(50, 10))\n",
        "\n",
        "ax1 = fig3.add_subplot(1, 2, 1)\n",
        "\n",
        "df = loans.copy()\n",
        "\n",
        "df['Default'] = np.where(df['MIS_Status'] == 'P I F', 0, 1)\n",
        "df['Default'].value_counts()\n",
        "\n",
        "data = df.groupby(['State', 'Default'])['State'].count().unstack('Default')\n",
        "data.fillna(0)\n",
        "\n",
        "ax1.bar(data.index, data[1], label='Default')\n",
        "ax1.bar(data.index, data[0], bottom=data[1], label='Paid in full')\n",
        "\n",
        "ax1.set_title('Number of PIF/Defaulted Loans by State from 1984-2010', fontsize=15)\n",
        "ax1.set_xlabel('State')\n",
        "ax1.set_ylabel('Number of PIF/Defaulted Loans')\n",
        "ax1.legend()\n",
        "\n",
        "plt.tight_layout()\n",
        "\n",
        "plt.savefig('states.png')\n",
        "plt.show()"
      ],
      "metadata": {
        "pycharm": {
          "name": "#%%\n",
          "is_executing": true
        },
        "jupyter": {
          "outputs_hidden": false
        },
        "execution": {
          "iopub.status.busy": "2022-01-24T20:24:43.134826Z",
          "iopub.execute_input": "2022-01-24T20:24:43.135051Z"
        },
        "trusted": true,
        "colab": {
          "base_uri": "https://localhost:8080/",
          "height": 501
        },
        "id": "asYwhN4SRXlw",
        "outputId": "953d8820-a136-4081-c782-a1567657e9ea"
      },
      "execution_count": 11,
      "outputs": [
        {
          "output_type": "display_data",
          "data": {
            "text/plain": [
              "<Figure size 3600x720 with 1 Axes>"
            ],
            "image/png": "[encoded data removed]"
          },
          "metadata": {
            "needs_background": "light"
          }
        }
      ]
    },
    {
      "cell_type": "code",
      "source": [
        "loans.columns"
      ],
      "metadata": {
        "pycharm": {
          "name": "#%%\n",
          "is_executing": true
        },
        "jupyter": {
          "outputs_hidden": false
        },
        "trusted": true,
        "colab": {
          "base_uri": "https://localhost:8080/"
        },
        "id": "q1pRp851RXlx",
        "outputId": "065be286-2d19-4ea6-dc39-2e1ce09d8f79"
      },
      "execution_count": 12,
      "outputs": [
        {
          "output_type": "execute_result",
          "data": {
            "text/plain": [
              "Index(['LoanNr_ChkDgt', 'Name', 'City', 'State', 'Zip', 'Bank', 'BankState',\n",
              "       'NAICS', 'ApprovalDate', 'ApprovalFY', 'Term', 'NoEmp', 'NewExist',\n",
              "       'CreateJob', 'RetainedJob', 'FranchiseCode', 'UrbanRural', 'RevLineCr',\n",
              "       'LowDoc', 'ChgOffDate', 'DisbursementDate', 'DisbursementGross',\n",
              "       'BalanceGross', 'MIS_Status', 'ChgOffPrinGr', 'GrAppv', 'SBA_Appv',\n",
              "       'Defaulted'],\n",
              "      dtype='object')"
            ]
          },
          "metadata": {},
          "execution_count": 12
        }
      ]
    },
    {
      "cell_type": "markdown",
      "source": [
        "# **Data Preparation**"
      ],
      "metadata": {
        "id": "P0SwictgRXlx"
      }
    },
    {
      "cell_type": "code",
      "source": [
        "# we want to make a binary value stating if the loan was defaulted or not\n",
        "loans = loans.drop(columns=['MIS_Status'])\n",
        "\n",
        "# we only take the loans created before 2007\n",
        "loans['ApprovalFY'] = loans['ApprovalFY'].replace({'A':'','B':''}, regex = True).astype(int)\n",
        "loans.drop(loans[loans['ApprovalFY']>2007].index, axis = 0, inplace = True)\n",
        "\n",
        "loans = loans.drop(columns=['ApprovalFY','ApprovalDate','DisbursementDate','ChgOffDate','LoanNr_ChkDgt','Name','Zip', 'City', 'Bank'])"
      ],
      "metadata": {
        "pycharm": {
          "name": "#%%\n",
          "is_executing": true
        },
        "jupyter": {
          "outputs_hidden": false
        },
        "trusted": true,
        "id": "WsIn5_bCRXly"
      },
      "execution_count": 13,
      "outputs": []
    },
    {
      "cell_type": "code",
      "source": [
        "loans.head()"
      ],
      "metadata": {
        "pycharm": {
          "name": "#%%\n",
          "is_executing": true
        },
        "jupyter": {
          "outputs_hidden": false
        },
        "trusted": true,
        "colab": {
          "base_uri": "https://localhost:8080/",
          "height": 270
        },
        "id": "wzY3k8WTRXly",
        "outputId": "85de46dd-8d79-4a0a-f978-2ead8ff660d0"
      },
      "execution_count": 14,
      "outputs": [
        {
          "output_type": "execute_result",
          "data": {
            "text/plain": [
              "  State BankState   NAICS  Term  NoEmp  NewExist  CreateJob  RetainedJob  \\\n",
              "0    IN        OH  451120    84      4       2.0          0            0   \n",
              "1    IN        IN  722410    60      2       2.0          0            0   \n",
              "2    IN        IN  621210   180      7       1.0          0            0   \n",
              "3    OK        OK       0    60      2       1.0          0            0   \n",
              "4    FL        FL       0   240     14       1.0          7            7   \n",
              "\n",
              "   FranchiseCode  UrbanRural RevLineCr LowDoc DisbursementGross BalanceGross  \\\n",
              "0              1           0         N      Y       $60,000.00        $0.00    \n",
              "1              1           0         N      Y       $40,000.00        $0.00    \n",
              "2              1           0         N      N      $287,000.00        $0.00    \n",
              "3              1           0         N      Y       $35,000.00        $0.00    \n",
              "4              1           0         N      N      $229,000.00        $0.00    \n",
              "\n",
              "  ChgOffPrinGr        GrAppv      SBA_Appv  Defaulted  \n",
              "0       $0.00    $60,000.00    $48,000.00           0  \n",
              "1       $0.00    $40,000.00    $32,000.00           0  \n",
              "2       $0.00   $287,000.00   $215,250.00           0  \n",
              "3       $0.00    $35,000.00    $28,000.00           0  \n",
              "4       $0.00   $229,000.00   $229,000.00           0  "
            ],
            "text/html": [
              "\n",
              "  <div id=\"df-efdca9f1-756e-4a21-8a9c-d52558b1bf64\">\n",
              "    <div class=\"colab-df-container\">\n",
              "      <div>\n",
              "<style scoped>\n",
              "    .dataframe tbody tr th:only-of-type {\n",
              "        vertical-align: middle;\n",
              "    }\n",
              "\n",
              "    .dataframe tbody tr th {\n",
              "        vertical-align: top;\n",
              "    }\n",
              "\n",
              "    .dataframe thead th {\n",
              "        text-align: right;\n",
              "    }\n",
              "</style>\n",
              "<table border=\"1\" class=\"dataframe\">\n",
              "  <thead>\n",
              "    <tr style=\"text-align: right;\">\n",
              "      <th></th>\n",
              "      <th>State</th>\n",
              "      <th>BankState</th>\n",
              "      <th>NAICS</th>\n",
              "      <th>Term</th>\n",
              "      <th>NoEmp</th>\n",
              "      <th>NewExist</th>\n",
              "      <th>CreateJob</th>\n",
              "      <th>RetainedJob</th>\n",
              "      <th>FranchiseCode</th>\n",
              "      <th>UrbanRural</th>\n",
              "      <th>RevLineCr</th>\n",
              "      <th>LowDoc</th>\n",
              "      <th>DisbursementGross</th>\n",
              "      <th>BalanceGross</th>\n",
              "      <th>ChgOffPrinGr</th>\n",
              "      <th>GrAppv</th>\n",
              "      <th>SBA_Appv</th>\n",
              "      <th>Defaulted</th>\n",
              "    </tr>\n",
              "  </thead>\n",
              "  <tbody>\n",
              "    <tr>\n",
              "      <th>0</th>\n",
              "      <td>IN</td>\n",
              "      <td>OH</td>\n",
              "      <td>451120</td>\n",
              "      <td>84</td>\n",
              "      <td>4</td>\n",
              "      <td>2.0</td>\n",
              "      <td>0</td>\n",
              "      <td>0</td>\n",
              "      <td>1</td>\n",
              "      <td>0</td>\n",
              "      <td>N</td>\n",
              "      <td>Y</td>\n",
              "      <td>$60,000.00</td>\n",
              "      <td>$0.00</td>\n",
              "      <td>$0.00</td>\n",
              "      <td>$60,000.00</td>\n",
              "      <td>$48,000.00</td>\n",
              "      <td>0</td>\n",
              "    </tr>\n",
              "    <tr>\n",
              "      <th>1</th>\n",
              "      <td>IN</td>\n",
              "      <td>IN</td>\n",
              "      <td>722410</td>\n",
              "      <td>60</td>\n",
              "      <td>2</td>\n",
              "      <td>2.0</td>\n",
              "      <td>0</td>\n",
              "      <td>0</td>\n",
              "      <td>1</td>\n",
              "      <td>0</td>\n",
              "      <td>N</td>\n",
              "      <td>Y</td>\n",
              "      <td>$40,000.00</td>\n",
              "      <td>$0.00</td>\n",
              "      <td>$0.00</td>\n",
              "      <td>$40,000.00</td>\n",
              "      <td>$32,000.00</td>\n",
              "      <td>0</td>\n",
              "    </tr>\n",
              "    <tr>\n",
              "      <th>2</th>\n",
              "      <td>IN</td>\n",
              "      <td>IN</td>\n",
              "      <td>621210</td>\n",
              "      <td>180</td>\n",
              "      <td>7</td>\n",
              "      <td>1.0</td>\n",
              "      <td>0</td>\n",
              "      <td>0</td>\n",
              "      <td>1</td>\n",
              "      <td>0</td>\n",
              "      <td>N</td>\n",
              "      <td>N</td>\n",
              "      <td>$287,000.00</td>\n",
              "      <td>$0.00</td>\n",
              "      <td>$0.00</td>\n",
              "      <td>$287,000.00</td>\n",
              "      <td>$215,250.00</td>\n",
              "      <td>0</td>\n",
              "    </tr>\n",
              "    <tr>\n",
              "      <th>3</th>\n",
              "      <td>OK</td>\n",
              "      <td>OK</td>\n",
              "      <td>0</td>\n",
              "      <td>60</td>\n",
              "      <td>2</td>\n",
              "      <td>1.0</td>\n",
              "      <td>0</td>\n",
              "      <td>0</td>\n",
              "      <td>1</td>\n",
              "      <td>0</td>\n",
              "      <td>N</td>\n",
              "      <td>Y</td>\n",
              "      <td>$35,000.00</td>\n",
              "      <td>$0.00</td>\n",
              "      <td>$0.00</td>\n",
              "      <td>$35,000.00</td>\n",
              "      <td>$28,000.00</td>\n",
              "      <td>0</td>\n",
              "    </tr>\n",
              "    <tr>\n",
              "      <th>4</th>\n",
              "      <td>FL</td>\n",
              "      <td>FL</td>\n",
              "      <td>0</td>\n",
              "      <td>240</td>\n",
              "      <td>14</td>\n",
              "      <td>1.0</td>\n",
              "      <td>7</td>\n",
              "      <td>7</td>\n",
              "      <td>1</td>\n",
              "      <td>0</td>\n",
              "      <td>N</td>\n",
              "      <td>N</td>\n",
              "      <td>$229,000.00</td>\n",
              "      <td>$0.00</td>\n",
              "      <td>$0.00</td>\n",
              "      <td>$229,000.00</td>\n",
              "      <td>$229,000.00</td>\n",
              "      <td>0</td>\n",
              "    </tr>\n",
              "  </tbody>\n",
              "</table>\n",
              "</div>\n",
              "      <button class=\"colab-df-convert\" onclick=\"convertToInteractive('df-efdca9f1-756e-4a21-8a9c-d52558b1bf64')\"\n",
              "              title=\"Convert this dataframe to an interactive table.\"\n",
              "              style=\"display:none;\">\n",
              "        \n",
              "  <svg xmlns=\"http://www.w3.org/2000/svg\" height=\"24px\"viewBox=\"0 0 24 24\"\n",
              "       width=\"24px\">\n",
              "    <path d=\"M0 0h24v24H0V0z\" fill=\"none\"/>\n",
              "    <path d=\"M18.56 5.44l.94 2.06.94-2.06 2.06-.94-2.06-.94-.94-2.06-.94 2.06-2.06.94zm-11 1L8.5 8.5l.94-2.06 2.06-.94-2.06-.94L8.5 2.5l-.94 2.06-2.06.94zm10 10l.94 2.06.94-2.06 2.06-.94-2.06-.94-.94-2.06-.94 2.06-2.06.94z\"/><path d=\"M17.41 7.96l-1.37-1.37c-.4-.4-.92-.59-1.43-.59-.52 0-1.04.2-1.43.59L10.3 9.45l-7.72 7.72c-.78.78-.78 2.05 0 2.83L4 21.41c.39.39.9.59 1.41.59.51 0 1.02-.2 1.41-.59l7.78-7.78 2.81-2.81c.8-.78.8-2.07 0-2.86zM5.41 20L4 18.59l7.72-7.72 1.47 1.35L5.41 20z\"/>\n",
              "  </svg>\n",
              "      </button>\n",
              "      \n",
              "  <style>\n",
              "    .colab-df-container {\n",
              "      display:flex;\n",
              "      flex-wrap:wrap;\n",
              "      gap: 12px;\n",
              "    }\n",
              "\n",
              "    .colab-df-convert {\n",
              "      background-color: #E8F0FE;\n",
              "      border: none;\n",
              "      border-radius: 50%;\n",
              "      cursor: pointer;\n",
              "      display: none;\n",
              "      fill: #1967D2;\n",
              "      height: 32px;\n",
              "      padding: 0 0 0 0;\n",
              "      width: 32px;\n",
              "    }\n",
              "\n",
              "    .colab-df-convert:hover {\n",
              "      background-color: #E2EBFA;\n",
              "      box-shadow: 0px 1px 2px rgba(60, 64, 67, 0.3), 0px 1px 3px 1px rgba(60, 64, 67, 0.15);\n",
              "      fill: #174EA6;\n",
              "    }\n",
              "\n",
              "    [theme=dark] .colab-df-convert {\n",
              "      background-color: #3B4455;\n",
              "      fill: #D2E3FC;\n",
              "    }\n",
              "\n",
              "    [theme=dark] .colab-df-convert:hover {\n",
              "      background-color: #434B5C;\n",
              "      box-shadow: 0px 1px 3px 1px rgba(0, 0, 0, 0.15);\n",
              "      filter: drop-shadow(0px 1px 2px rgba(0, 0, 0, 0.3));\n",
              "      fill: #FFFFFF;\n",
              "    }\n",
              "  </style>\n",
              "\n",
              "      <script>\n",
              "        const buttonEl =\n",
              "          document.querySelector('#df-efdca9f1-756e-4a21-8a9c-d52558b1bf64 button.colab-df-convert');\n",
              "        buttonEl.style.display =\n",
              "          google.colab.kernel.accessAllowed ? 'block' : 'none';\n",
              "\n",
              "        async function convertToInteractive(key) {\n",
              "          const element = document.querySelector('#df-efdca9f1-756e-4a21-8a9c-d52558b1bf64');\n",
              "          const dataTable =\n",
              "            await google.colab.kernel.invokeFunction('convertToInteractive',\n",
              "                                                     [key], {});\n",
              "          if (!dataTable) return;\n",
              "\n",
              "          const docLinkHtml = 'Like what you see? Visit the ' +\n",
              "            '<a target=\"_blank\" href=https://colab.research.google.com/notebooks/data_table.ipynb>data table notebook</a>'\n",
              "            + ' to learn more about interactive tables.';\n",
              "          element.innerHTML = '';\n",
              "          dataTable['output_type'] = 'display_data';\n",
              "          await google.colab.output.renderOutput(dataTable, element);\n",
              "          const docLink = document.createElement('div');\n",
              "          docLink.innerHTML = docLinkHtml;\n",
              "          element.appendChild(docLink);\n",
              "        }\n",
              "      </script>\n",
              "    </div>\n",
              "  </div>\n",
              "  "
            ]
          },
          "metadata": {},
          "execution_count": 14
        }
      ]
    },
    {
      "cell_type": "code",
      "source": [
        "loans.shape"
      ],
      "metadata": {
        "pycharm": {
          "name": "#%%\n",
          "is_executing": true
        },
        "jupyter": {
          "outputs_hidden": false
        },
        "trusted": true,
        "colab": {
          "base_uri": "https://localhost:8080/"
        },
        "id": "S3Y23lPSRXlz",
        "outputId": "47224f06-3e01-46a0-f7ae-052bd25e6ade"
      },
      "execution_count": 15,
      "outputs": [
        {
          "output_type": "execute_result",
          "data": {
            "text/plain": [
              "(802319, 18)"
            ]
          },
          "metadata": {},
          "execution_count": 15
        }
      ]
    },
    {
      "cell_type": "code",
      "source": [
        "def amount_to_float(number):\n",
        "    num = number.replace(\"$\", \"\")\n",
        "    num = num.replace(\",\",\"\")\n",
        "    num = num.replace(\" \",\"\")\n",
        "    return float(num)\n",
        "\n",
        "#instead of dealing with money as a string we will deal with it as a number\n",
        "loans['BalanceGross'] = loans['BalanceGross'].apply(lambda x: amount_to_float(x))\n",
        "loans['DisbursementGross'] = loans['DisbursementGross'].apply(lambda x: amount_to_float(x))\n",
        "loans['ChgOffPrinGr'] = loans['ChgOffPrinGr'].apply(lambda x: amount_to_float(x))\n",
        "loans['GrAppv'] = loans['GrAppv'].apply(lambda x: amount_to_float(x))\n",
        "loans['SBA_Appv'] = loans['SBA_Appv'].apply(lambda x: amount_to_float(x))"
      ],
      "metadata": {
        "pycharm": {
          "name": "#%%\n",
          "is_executing": true
        },
        "jupyter": {
          "outputs_hidden": false
        },
        "trusted": true,
        "id": "q3krxJh3RXlz"
      },
      "execution_count": 16,
      "outputs": []
    },
    {
      "cell_type": "code",
      "source": [
        "# we replace it to be a binary where 1 to be a new business and 0 an old business\n",
        "loans['NewExist'] = loans['NewExist'].replace(1,0)\n",
        "loans['NewExist'] = loans['NewExist'].replace(2,1)"
      ],
      "metadata": {
        "pycharm": {
          "name": "#%%\n",
          "is_executing": true
        },
        "jupyter": {
          "outputs_hidden": false
        },
        "trusted": true,
        "id": "mlYbU4YgRXl0"
      },
      "execution_count": 17,
      "outputs": []
    },
    {
      "cell_type": "code",
      "source": [
        "# we replace the LowDoc values to be binary instead of Y and N\n",
        "loans['LowDoc'] = loans['LowDoc'].replace({'Y':'1', 'N':'0'}, regex=True)\n",
        "valid = ['1', '0']\n",
        "loans = loans.loc[loans['LowDoc'].isin(valid)]\n",
        "loans['LowDoc'] = loans['LowDoc'].astype(int)"
      ],
      "metadata": {
        "pycharm": {
          "name": "#%%\n",
          "is_executing": true
        },
        "jupyter": {
          "outputs_hidden": false
        },
        "trusted": true,
        "colab": {
          "base_uri": "https://localhost:8080/"
        },
        "id": "14Wf5Y1tRXl0",
        "outputId": "731166a7-5b2c-4c96-944c-222bcf73742c"
      },
      "execution_count": 18,
      "outputs": [
        {
          "output_type": "stream",
          "name": "stderr",
          "text": [
            "<ipython-input-18-cdff927ea5ec>:5: SettingWithCopyWarning: \n",
            "A value is trying to be set on a copy of a slice from a DataFrame.\n",
            "Try using .loc[row_indexer,col_indexer] = value instead\n",
            "\n",
            "See the caveats in the documentation: https://pandas.pydata.org/pandas-docs/stable/user_guide/indexing.html#returning-a-view-versus-a-copy\n",
            "  loans['LowDoc'] = loans['LowDoc'].astype(int)\n"
          ]
        }
      ]
    },
    {
      "cell_type": "code",
      "source": [
        "# we replace the RevLineCr values to be binary instead of Y and N\n",
        "loans['RevLineCr'] = loans['RevLineCr'].replace({'Y':'1', 'N':'0'}, regex=True)\n",
        "loans = loans.loc[loans['RevLineCr'].isin(valid)]\n",
        "loans['RevLineCr'] = loans['RevLineCr'].astype(int)"
      ],
      "metadata": {
        "trusted": true,
        "colab": {
          "base_uri": "https://localhost:8080/"
        },
        "id": "Nox5FQ69RXl0",
        "outputId": "4260c9da-d2c5-441f-9ffa-eaf9c2ddc11f"
      },
      "execution_count": 19,
      "outputs": [
        {
          "output_type": "stream",
          "name": "stderr",
          "text": [
            "<ipython-input-19-4f9f7ad3819d>:4: SettingWithCopyWarning: \n",
            "A value is trying to be set on a copy of a slice from a DataFrame.\n",
            "Try using .loc[row_indexer,col_indexer] = value instead\n",
            "\n",
            "See the caveats in the documentation: https://pandas.pydata.org/pandas-docs/stable/user_guide/indexing.html#returning-a-view-versus-a-copy\n",
            "  loans['RevLineCr'] = loans['RevLineCr'].astype(int)\n"
          ]
        }
      ]
    },
    {
      "cell_type": "code",
      "source": [
        "# we make FranchiseCode a binary column named Franchise where 1 is true and 0 is false\n",
        "loans['FranchiseCode'] = loans['FranchiseCode'].replace(1,0)\n",
        "loans['FranchiseCode'] = np.where((loans.FranchiseCode != 0),1,loans.FranchiseCode)\n",
        "loans.rename(columns={\"FranchiseCode\":\"Franchise\"},inplace=True)"
      ],
      "metadata": {
        "pycharm": {
          "name": "#%%\n",
          "is_executing": true
        },
        "jupyter": {
          "outputs_hidden": false
        },
        "trusted": true,
        "colab": {
          "base_uri": "https://localhost:8080/"
        },
        "id": "eoY8qcO2RXl0",
        "outputId": "ee4cc36c-9be0-4ec9-b059-6426b2b026eb"
      },
      "execution_count": 20,
      "outputs": [
        {
          "output_type": "stream",
          "name": "stderr",
          "text": [
            "<ipython-input-20-932e5fefa3ee>:2: SettingWithCopyWarning: \n",
            "A value is trying to be set on a copy of a slice from a DataFrame.\n",
            "Try using .loc[row_indexer,col_indexer] = value instead\n",
            "\n",
            "See the caveats in the documentation: https://pandas.pydata.org/pandas-docs/stable/user_guide/indexing.html#returning-a-view-versus-a-copy\n",
            "  loans['FranchiseCode'] = loans['FranchiseCode'].replace(1,0)\n",
            "<ipython-input-20-932e5fefa3ee>:3: SettingWithCopyWarning: \n",
            "A value is trying to be set on a copy of a slice from a DataFrame.\n",
            "Try using .loc[row_indexer,col_indexer] = value instead\n",
            "\n",
            "See the caveats in the documentation: https://pandas.pydata.org/pandas-docs/stable/user_guide/indexing.html#returning-a-view-versus-a-copy\n",
            "  loans['FranchiseCode'] = np.where((loans.FranchiseCode != 0),1,loans.FranchiseCode)\n",
            "/usr/local/lib/python3.8/dist-packages/pandas/core/frame.py:5039: SettingWithCopyWarning: \n",
            "A value is trying to be set on a copy of a slice from a DataFrame\n",
            "\n",
            "See the caveats in the documentation: https://pandas.pydata.org/pandas-docs/stable/user_guide/indexing.html#returning-a-view-versus-a-copy\n",
            "  return super().rename(\n"
          ]
        }
      ]
    },
    {
      "cell_type": "code",
      "source": [
        "loans.shape"
      ],
      "metadata": {
        "pycharm": {
          "name": "#%%\n",
          "is_executing": true
        },
        "jupyter": {
          "outputs_hidden": false
        },
        "trusted": true,
        "colab": {
          "base_uri": "https://localhost:8080/"
        },
        "id": "iQZT08loRXl1",
        "outputId": "9202c29d-36db-4e70-9919-7fbafc731fd2"
      },
      "execution_count": 21,
      "outputs": [
        {
          "output_type": "execute_result",
          "data": {
            "text/plain": [
              "(783512, 18)"
            ]
          },
          "metadata": {},
          "execution_count": 21
        }
      ]
    },
    {
      "cell_type": "code",
      "source": [
        "# we get dummies for the catagorical columns BankState and State\n",
        "loans = pd.get_dummies(loans,columns=['BankState','State'],prefix=['BankState','State'])"
      ],
      "metadata": {
        "pycharm": {
          "name": "#%%\n",
          "is_executing": true
        },
        "jupyter": {
          "outputs_hidden": false
        },
        "trusted": true,
        "id": "DUURyda7RXl1"
      },
      "execution_count": 22,
      "outputs": []
    },
    {
      "cell_type": "code",
      "source": [
        "# only take the first 2 digits from the NAICS values\n",
        "def first_n_digits(number, n):\n",
        "    return int(str(number)[:n])\n",
        "loans['NAICS'] = loans['NAICS'].apply(lambda x: first_n_digits(x,2))"
      ],
      "metadata": {
        "pycharm": {
          "name": "#%%\n",
          "is_executing": true
        },
        "jupyter": {
          "outputs_hidden": false
        },
        "trusted": true,
        "id": "bSQArdHmRXl3"
      },
      "execution_count": 23,
      "outputs": []
    },
    {
      "cell_type": "code",
      "source": [
        "loans.head()"
      ],
      "metadata": {
        "pycharm": {
          "name": "#%%\n",
          "is_executing": true
        },
        "jupyter": {
          "outputs_hidden": false
        },
        "trusted": true,
        "colab": {
          "base_uri": "https://localhost:8080/",
          "height": 300
        },
        "id": "iNv-mCLQRXl4",
        "outputId": "dd178284-f754-4593-dbf5-880e02b927b8"
      },
      "execution_count": 24,
      "outputs": [
        {
          "output_type": "execute_result",
          "data": {
            "text/plain": [
              "   NAICS  Term  NoEmp  NewExist  CreateJob  RetainedJob  Franchise  \\\n",
              "0     45    84      4       1.0          0            0          0   \n",
              "1     72    60      2       1.0          0            0          0   \n",
              "2     62   180      7       0.0          0            0          0   \n",
              "3      0    60      2       0.0          0            0          0   \n",
              "4      0   240     14       0.0          7            7          0   \n",
              "\n",
              "   UrbanRural  RevLineCr  LowDoc  ...  State_SD  State_TN  State_TX  State_UT  \\\n",
              "0           0          0       1  ...         0         0         0         0   \n",
              "1           0          0       1  ...         0         0         0         0   \n",
              "2           0          0       0  ...         0         0         0         0   \n",
              "3           0          0       1  ...         0         0         0         0   \n",
              "4           0          0       0  ...         0         0         0         0   \n",
              "\n",
              "   State_VA  State_VT  State_WA  State_WI  State_WV  State_WY  \n",
              "0         0         0         0         0         0         0  \n",
              "1         0         0         0         0         0         0  \n",
              "2         0         0         0         0         0         0  \n",
              "3         0         0         0         0         0         0  \n",
              "4         0         0         0         0         0         0  \n",
              "\n",
              "[5 rows x 122 columns]"
            ],
            "text/html": [
              "\n",
              "  <div id=\"df-b054aa69-a5c8-46f3-988b-ff17253d0747\">\n",
              "    <div class=\"colab-df-container\">\n",
              "      <div>\n",
              "<style scoped>\n",
              "    .dataframe tbody tr th:only-of-type {\n",
              "        vertical-align: middle;\n",
              "    }\n",
              "\n",
              "    .dataframe tbody tr th {\n",
              "        vertical-align: top;\n",
              "    }\n",
              "\n",
              "    .dataframe thead th {\n",
              "        text-align: right;\n",
              "    }\n",
              "</style>\n",
              "<table border=\"1\" class=\"dataframe\">\n",
              "  <thead>\n",
              "    <tr style=\"text-align: right;\">\n",
              "      <th></th>\n",
              "      <th>NAICS</th>\n",
              "      <th>Term</th>\n",
              "      <th>NoEmp</th>\n",
              "      <th>NewExist</th>\n",
              "      <th>CreateJob</th>\n",
              "      <th>RetainedJob</th>\n",
              "      <th>Franchise</th>\n",
              "      <th>UrbanRural</th>\n",
              "      <th>RevLineCr</th>\n",
              "      <th>LowDoc</th>\n",
              "      <th>...</th>\n",
              "      <th>State_SD</th>\n",
              "      <th>State_TN</th>\n",
              "      <th>State_TX</th>\n",
              "      <th>State_UT</th>\n",
              "      <th>State_VA</th>\n",
              "      <th>State_VT</th>\n",
              "      <th>State_WA</th>\n",
              "      <th>State_WI</th>\n",
              "      <th>State_WV</th>\n",
              "      <th>State_WY</th>\n",
              "    </tr>\n",
              "  </thead>\n",
              "  <tbody>\n",
              "    <tr>\n",
              "      <th>0</th>\n",
              "      <td>45</td>\n",
              "      <td>84</td>\n",
              "      <td>4</td>\n",
              "      <td>1.0</td>\n",
              "      <td>0</td>\n",
              "      <td>0</td>\n",
              "      <td>0</td>\n",
              "      <td>0</td>\n",
              "      <td>0</td>\n",
              "      <td>1</td>\n",
              "      <td>...</td>\n",
              "      <td>0</td>\n",
              "      <td>0</td>\n",
              "      <td>0</td>\n",
              "      <td>0</td>\n",
              "      <td>0</td>\n",
              "      <td>0</td>\n",
              "      <td>0</td>\n",
              "      <td>0</td>\n",
              "      <td>0</td>\n",
              "      <td>0</td>\n",
              "    </tr>\n",
              "    <tr>\n",
              "      <th>1</th>\n",
              "      <td>72</td>\n",
              "      <td>60</td>\n",
              "      <td>2</td>\n",
              "      <td>1.0</td>\n",
              "      <td>0</td>\n",
              "      <td>0</td>\n",
              "      <td>0</td>\n",
              "      <td>0</td>\n",
              "      <td>0</td>\n",
              "      <td>1</td>\n",
              "      <td>...</td>\n",
              "      <td>0</td>\n",
              "      <td>0</td>\n",
              "      <td>0</td>\n",
              "      <td>0</td>\n",
              "      <td>0</td>\n",
              "      <td>0</td>\n",
              "      <td>0</td>\n",
              "      <td>0</td>\n",
              "      <td>0</td>\n",
              "      <td>0</td>\n",
              "    </tr>\n",
              "    <tr>\n",
              "      <th>2</th>\n",
              "      <td>62</td>\n",
              "      <td>180</td>\n",
              "      <td>7</td>\n",
              "      <td>0.0</td>\n",
              "      <td>0</td>\n",
              "      <td>0</td>\n",
              "      <td>0</td>\n",
              "      <td>0</td>\n",
              "      <td>0</td>\n",
              "      <td>0</td>\n",
              "      <td>...</td>\n",
              "      <td>0</td>\n",
              "      <td>0</td>\n",
              "      <td>0</td>\n",
              "      <td>0</td>\n",
              "      <td>0</td>\n",
              "      <td>0</td>\n",
              "      <td>0</td>\n",
              "      <td>0</td>\n",
              "      <td>0</td>\n",
              "      <td>0</td>\n",
              "    </tr>\n",
              "    <tr>\n",
              "      <th>3</th>\n",
              "      <td>0</td>\n",
              "      <td>60</td>\n",
              "      <td>2</td>\n",
              "      <td>0.0</td>\n",
              "      <td>0</td>\n",
              "      <td>0</td>\n",
              "      <td>0</td>\n",
              "      <td>0</td>\n",
              "      <td>0</td>\n",
              "      <td>1</td>\n",
              "      <td>...</td>\n",
              "      <td>0</td>\n",
              "      <td>0</td>\n",
              "      <td>0</td>\n",
              "      <td>0</td>\n",
              "      <td>0</td>\n",
              "      <td>0</td>\n",
              "      <td>0</td>\n",
              "      <td>0</td>\n",
              "      <td>0</td>\n",
              "      <td>0</td>\n",
              "    </tr>\n",
              "    <tr>\n",
              "      <th>4</th>\n",
              "      <td>0</td>\n",
              "      <td>240</td>\n",
              "      <td>14</td>\n",
              "      <td>0.0</td>\n",
              "      <td>7</td>\n",
              "      <td>7</td>\n",
              "      <td>0</td>\n",
              "      <td>0</td>\n",
              "      <td>0</td>\n",
              "      <td>0</td>\n",
              "      <td>...</td>\n",
              "      <td>0</td>\n",
              "      <td>0</td>\n",
              "      <td>0</td>\n",
              "      <td>0</td>\n",
              "      <td>0</td>\n",
              "      <td>0</td>\n",
              "      <td>0</td>\n",
              "      <td>0</td>\n",
              "      <td>0</td>\n",
              "      <td>0</td>\n",
              "    </tr>\n",
              "  </tbody>\n",
              "</table>\n",
              "<p>5 rows × 122 columns</p>\n",
              "</div>\n",
              "      <button class=\"colab-df-convert\" onclick=\"convertToInteractive('df-b054aa69-a5c8-46f3-988b-ff17253d0747')\"\n",
              "              title=\"Convert this dataframe to an interactive table.\"\n",
              "              style=\"display:none;\">\n",
              "        \n",
              "  <svg xmlns=\"http://www.w3.org/2000/svg\" height=\"24px\"viewBox=\"0 0 24 24\"\n",
              "       width=\"24px\">\n",
              "    <path d=\"M0 0h24v24H0V0z\" fill=\"none\"/>\n",
              "    <path d=\"M18.56 5.44l.94 2.06.94-2.06 2.06-.94-2.06-.94-.94-2.06-.94 2.06-2.06.94zm-11 1L8.5 8.5l.94-2.06 2.06-.94-2.06-.94L8.5 2.5l-.94 2.06-2.06.94zm10 10l.94 2.06.94-2.06 2.06-.94-2.06-.94-.94-2.06-.94 2.06-2.06.94z\"/><path d=\"M17.41 7.96l-1.37-1.37c-.4-.4-.92-.59-1.43-.59-.52 0-1.04.2-1.43.59L10.3 9.45l-7.72 7.72c-.78.78-.78 2.05 0 2.83L4 21.41c.39.39.9.59 1.41.59.51 0 1.02-.2 1.41-.59l7.78-7.78 2.81-2.81c.8-.78.8-2.07 0-2.86zM5.41 20L4 18.59l7.72-7.72 1.47 1.35L5.41 20z\"/>\n",
              "  </svg>\n",
              "      </button>\n",
              "      \n",
              "  <style>\n",
              "    .colab-df-container {\n",
              "      display:flex;\n",
              "      flex-wrap:wrap;\n",
              "      gap: 12px;\n",
              "    }\n",
              "\n",
              "    .colab-df-convert {\n",
              "      background-color: #E8F0FE;\n",
              "      border: none;\n",
              "      border-radius: 50%;\n",
              "      cursor: pointer;\n",
              "      display: none;\n",
              "      fill: #1967D2;\n",
              "      height: 32px;\n",
              "      padding: 0 0 0 0;\n",
              "      width: 32px;\n",
              "    }\n",
              "\n",
              "    .colab-df-convert:hover {\n",
              "      background-color: #E2EBFA;\n",
              "      box-shadow: 0px 1px 2px rgba(60, 64, 67, 0.3), 0px 1px 3px 1px rgba(60, 64, 67, 0.15);\n",
              "      fill: #174EA6;\n",
              "    }\n",
              "\n",
              "    [theme=dark] .colab-df-convert {\n",
              "      background-color: #3B4455;\n",
              "      fill: #D2E3FC;\n",
              "    }\n",
              "\n",
              "    [theme=dark] .colab-df-convert:hover {\n",
              "      background-color: #434B5C;\n",
              "      box-shadow: 0px 1px 3px 1px rgba(0, 0, 0, 0.15);\n",
              "      filter: drop-shadow(0px 1px 2px rgba(0, 0, 0, 0.3));\n",
              "      fill: #FFFFFF;\n",
              "    }\n",
              "  </style>\n",
              "\n",
              "      <script>\n",
              "        const buttonEl =\n",
              "          document.querySelector('#df-b054aa69-a5c8-46f3-988b-ff17253d0747 button.colab-df-convert');\n",
              "        buttonEl.style.display =\n",
              "          google.colab.kernel.accessAllowed ? 'block' : 'none';\n",
              "\n",
              "        async function convertToInteractive(key) {\n",
              "          const element = document.querySelector('#df-b054aa69-a5c8-46f3-988b-ff17253d0747');\n",
              "          const dataTable =\n",
              "            await google.colab.kernel.invokeFunction('convertToInteractive',\n",
              "                                                     [key], {});\n",
              "          if (!dataTable) return;\n",
              "\n",
              "          const docLinkHtml = 'Like what you see? Visit the ' +\n",
              "            '<a target=\"_blank\" href=https://colab.research.google.com/notebooks/data_table.ipynb>data table notebook</a>'\n",
              "            + ' to learn more about interactive tables.';\n",
              "          element.innerHTML = '';\n",
              "          dataTable['output_type'] = 'display_data';\n",
              "          await google.colab.output.renderOutput(dataTable, element);\n",
              "          const docLink = document.createElement('div');\n",
              "          docLink.innerHTML = docLinkHtml;\n",
              "          element.appendChild(docLink);\n",
              "        }\n",
              "      </script>\n",
              "    </div>\n",
              "  </div>\n",
              "  "
            ]
          },
          "metadata": {},
          "execution_count": 24
        }
      ]
    },
    {
      "cell_type": "code",
      "source": [
        "loans['NAICS'].unique()"
      ],
      "metadata": {
        "pycharm": {
          "name": "#%%\n",
          "is_executing": true
        },
        "jupyter": {
          "outputs_hidden": false
        },
        "trusted": true,
        "colab": {
          "base_uri": "https://localhost:8080/"
        },
        "id": "OBU2wyYPRXl4",
        "outputId": "250a35a2-bc01-4d92-fc77-b5c4a8cb45cd"
      },
      "execution_count": 25,
      "outputs": [
        {
          "output_type": "execute_result",
          "data": {
            "text/plain": [
              "array([45, 72, 62,  0, 33, 81, 23, 44, 42, 61, 53, 54, 31, 51, 71, 52, 21,\n",
              "       32, 56, 48, 11, 92, 22, 49, 55])"
            ]
          },
          "metadata": {},
          "execution_count": 25
        }
      ]
    },
    {
      "cell_type": "code",
      "source": [
        "loans.columns"
      ],
      "metadata": {
        "pycharm": {
          "name": "#%%\n",
          "is_executing": true
        },
        "jupyter": {
          "outputs_hidden": false
        },
        "trusted": true,
        "colab": {
          "base_uri": "https://localhost:8080/"
        },
        "id": "iMI0_ySWRXl4",
        "outputId": "021a92cc-8aba-4f6f-95b6-f7d973036b7f"
      },
      "execution_count": 26,
      "outputs": [
        {
          "output_type": "execute_result",
          "data": {
            "text/plain": [
              "Index(['NAICS', 'Term', 'NoEmp', 'NewExist', 'CreateJob', 'RetainedJob',\n",
              "       'Franchise', 'UrbanRural', 'RevLineCr', 'LowDoc',\n",
              "       ...\n",
              "       'State_SD', 'State_TN', 'State_TX', 'State_UT', 'State_VA', 'State_VT',\n",
              "       'State_WA', 'State_WI', 'State_WV', 'State_WY'],\n",
              "      dtype='object', length=122)"
            ]
          },
          "metadata": {},
          "execution_count": 26
        }
      ]
    },
    {
      "cell_type": "code",
      "source": [
        "loans.dtypes"
      ],
      "metadata": {
        "pycharm": {
          "name": "#%%\n",
          "is_executing": true
        },
        "jupyter": {
          "outputs_hidden": false
        },
        "trusted": true,
        "colab": {
          "base_uri": "https://localhost:8080/"
        },
        "id": "r98Ttnx0RXl4",
        "outputId": "9c8577cb-7e95-4b2b-f5fe-ee473514eef1"
      },
      "execution_count": 27,
      "outputs": [
        {
          "output_type": "execute_result",
          "data": {
            "text/plain": [
              "NAICS          int64\n",
              "Term           int64\n",
              "NoEmp          int64\n",
              "NewExist     float64\n",
              "CreateJob      int64\n",
              "              ...   \n",
              "State_VT       uint8\n",
              "State_WA       uint8\n",
              "State_WI       uint8\n",
              "State_WV       uint8\n",
              "State_WY       uint8\n",
              "Length: 122, dtype: object"
            ]
          },
          "metadata": {},
          "execution_count": 27
        }
      ]
    },
    {
      "cell_type": "markdown",
      "source": [
        "# **Modeling**"
      ],
      "metadata": {
        "id": "Cgoo1aJvRXl4"
      }
    },
    {
      "cell_type": "code",
      "source": [
        "# we seperate the values we want to classify\n",
        "y = loans['Defaulted']\n",
        "X = loans.drop(columns=['Defaulted'])\n",
        "y_backup = y\n",
        "X = X.to_numpy()\n",
        "y = pd.get_dummies(y)\n",
        "y = y.to_numpy()\n",
        "X_train, X_test, y_train, y_test = train_test_split(X, y, random_state=0, stratify=y)"
      ],
      "metadata": {
        "pycharm": {
          "name": "#%%\n",
          "is_executing": true
        },
        "jupyter": {
          "outputs_hidden": false
        },
        "trusted": true,
        "id": "zQvRaM7hRXl5"
      },
      "execution_count": 28,
      "outputs": []
    },
    {
      "cell_type": "code",
      "source": [
        "# the ration between the 0s and 1s is about 1:5\n",
        "y_backup.value_counts()"
      ],
      "metadata": {
        "pycharm": {
          "name": "#%%\n",
          "is_executing": true
        },
        "jupyter": {
          "outputs_hidden": false
        },
        "trusted": true,
        "colab": {
          "base_uri": "https://localhost:8080/"
        },
        "id": "TvDd9rrYRXl5",
        "outputId": "c7482f3d-fbb6-476c-edee-8a57b6cc066f"
      },
      "execution_count": 29,
      "outputs": [
        {
          "output_type": "execute_result",
          "data": {
            "text/plain": [
              "0    656260\n",
              "1    127252\n",
              "Name: Defaulted, dtype: int64"
            ]
          },
          "metadata": {},
          "execution_count": 29
        }
      ]
    },
    {
      "cell_type": "code",
      "source": [
        "# we create the encoder layers of the auto-encoder neuron network\n",
        "n_inputs = X.shape[1]\n",
        "e = Sequential()\n",
        "e.add(Dense(100, activation = 'tanh', input_shape = [n_inputs]))\n",
        "e.add(Dense(50, activation = 'tanh'))\n",
        "e.add(Dense(16, activation = 'tanh'))\n",
        "e.add(Dense(2, activation = 'tanh'))"
      ],
      "metadata": {
        "pycharm": {
          "name": "#%%\n",
          "is_executing": true
        },
        "jupyter": {
          "outputs_hidden": false
        },
        "trusted": true,
        "id": "0TcSRO_fRXl5"
      },
      "execution_count": 30,
      "outputs": []
    },
    {
      "cell_type": "code",
      "source": [
        "# we create the decoder layers of the auto-encoder neuron network\n",
        "d = Sequential()\n",
        "d.add(Dense(16, activation = 'tanh', input_shape = [2]))\n",
        "d.add(Dense(50, activation = 'tanh'))\n",
        "d.add(Dense(100, activation = 'tanh'))\n",
        "d.add(Dense(n_inputs, activation = 'tanh'))"
      ],
      "metadata": {
        "pycharm": {
          "name": "#%%\n",
          "is_executing": true
        },
        "jupyter": {
          "outputs_hidden": false
        },
        "trusted": true,
        "id": "zJ6r6ojmRXl6"
      },
      "execution_count": 31,
      "outputs": []
    },
    {
      "cell_type": "code",
      "source": [
        "# define auto-encoder model\n",
        "autoencoder = Sequential([e, d])"
      ],
      "metadata": {
        "pycharm": {
          "name": "#%%\n",
          "is_executing": true
        },
        "jupyter": {
          "outputs_hidden": false
        },
        "trusted": true,
        "id": "dcZI9byuRXl6"
      },
      "execution_count": 32,
      "outputs": []
    },
    {
      "cell_type": "code",
      "source": [
        "# compile auto-encoder model\n",
        "autoencoder.compile(optimizer='adam', loss='mse')\n",
        "\n",
        "n_epochs = 10\n",
        "batch_size = 256\n",
        "\n",
        "X_train = np.asarray(X_train).astype('float32')\n",
        "\n",
        "# we train the auto-encoder with the X_train\n",
        "fit_time = autoencoder.fit(X_train, X_train, epochs=n_epochs, batch_size=batch_size,verbose=0)"
      ],
      "metadata": {
        "pycharm": {
          "name": "#%%\n",
          "is_executing": true
        },
        "jupyter": {
          "outputs_hidden": false
        },
        "trusted": true,
        "id": "0qPqF-XZRXl7"
      },
      "execution_count": 33,
      "outputs": []
    },
    {
      "cell_type": "code",
      "source": [
        "# we predict the output values of the encoder for the train and test via compression\n",
        "enc_X_train = e.predict(X_train)\n",
        "enc_X_test = e.predict(X_test)"
      ],
      "metadata": {
        "pycharm": {
          "name": "#%%\n",
          "is_executing": true
        },
        "jupyter": {
          "outputs_hidden": false
        },
        "trusted": true,
        "colab": {
          "base_uri": "https://localhost:8080/"
        },
        "id": "SNMBuYdiRXl7",
        "outputId": "4591edee-7d31-4330-a297-5c08c352bbe4"
      },
      "execution_count": 34,
      "outputs": [
        {
          "output_type": "stream",
          "name": "stdout",
          "text": [
            "18364/18364 [==============================] - 24s 1ms/step\n",
            "6122/6122 [==============================] - 8s 1ms/step\n"
          ]
        }
      ]
    },
    {
      "cell_type": "code",
      "source": [
        "# we use a Decision Tree Classifier to evaluate our model\n",
        "clf = DecisionTreeClassifier()\n",
        "\n",
        "y_train_labels = np.argmax(y_train, axis = 1)\n",
        "y_test_labels = np.argmax(y_test, axis = 1)"
      ],
      "metadata": {
        "pycharm": {
          "name": "#%%\n",
          "is_executing": true
        },
        "jupyter": {
          "outputs_hidden": false
        },
        "trusted": true,
        "id": "uvrjIzm-RXl7"
      },
      "execution_count": 35,
      "outputs": []
    },
    {
      "cell_type": "code",
      "source": [
        "clf.fit(enc_X_train, y_train_labels)"
      ],
      "metadata": {
        "pycharm": {
          "name": "#%%\n",
          "is_executing": true
        },
        "jupyter": {
          "outputs_hidden": false
        },
        "trusted": true,
        "colab": {
          "base_uri": "https://localhost:8080/"
        },
        "id": "fJ65nluxRXl7",
        "outputId": "9e20cd88-7441-4c38-fc70-76df45892552"
      },
      "execution_count": 36,
      "outputs": [
        {
          "output_type": "execute_result",
          "data": {
            "text/plain": [
              "DecisionTreeClassifier()"
            ]
          },
          "metadata": {},
          "execution_count": 36
        }
      ]
    },
    {
      "cell_type": "markdown",
      "source": [
        "# **Evaluation**"
      ],
      "metadata": {
        "id": "71p7gJH5RXl7"
      }
    },
    {
      "cell_type": "code",
      "source": [
        "y_pred = clf.predict(enc_X_test)\n",
        "\n",
        "print(classification_report(y_test_labels, y_pred))"
      ],
      "metadata": {
        "pycharm": {
          "name": "#%%\n",
          "is_executing": true
        },
        "jupyter": {
          "outputs_hidden": false
        },
        "trusted": true,
        "colab": {
          "base_uri": "https://localhost:8080/"
        },
        "id": "beH2jzbnRXl8",
        "outputId": "7dd89ece-2484-465c-f7dc-68bf5bc0dcf7"
      },
      "execution_count": 37,
      "outputs": [
        {
          "output_type": "stream",
          "name": "stdout",
          "text": [
            "              precision    recall  f1-score   support\n",
            "\n",
            "           0       0.98      0.99      0.98    164065\n",
            "           1       0.96      0.88      0.92     31813\n",
            "\n",
            "    accuracy                           0.97    195878\n",
            "   macro avg       0.97      0.93      0.95    195878\n",
            "weighted avg       0.97      0.97      0.97    195878\n",
            "\n"
          ]
        }
      ]
    },
    {
      "cell_type": "code",
      "source": [
        "from sklearn.metrics import plot_confusion_matrix\n",
        "\n",
        "plot_confusion_matrix(clf,enc_X_test,y_test_labels, normalize = 'true')"
      ],
      "metadata": {
        "pycharm": {
          "name": "#%%\n",
          "is_executing": true
        },
        "jupyter": {
          "outputs_hidden": false
        },
        "trusted": true,
        "colab": {
          "base_uri": "https://localhost:8080/",
          "height": 361
        },
        "id": "RrUgKuHKRXl8",
        "outputId": "2c2ff2ae-39f2-4ff2-9176-b2a498c19b1e"
      },
      "execution_count": 38,
      "outputs": [
        {
          "output_type": "stream",
          "name": "stderr",
          "text": [
            "/usr/local/lib/python3.8/dist-packages/sklearn/utils/deprecation.py:87: FutureWarning: Function plot_confusion_matrix is deprecated; Function `plot_confusion_matrix` is deprecated in 1.0 and will be removed in 1.2. Use one of the class methods: ConfusionMatrixDisplay.from_predictions or ConfusionMatrixDisplay.from_estimator.\n",
            "  warnings.warn(msg, category=FutureWarning)\n"
          ]
        },
        {
          "output_type": "execute_result",
          "data": {
            "text/plain": [
              "<sklearn.metrics._plot.confusion_matrix.ConfusionMatrixDisplay at 0x7efe8f167d30>"
            ]
          },
          "metadata": {},
          "execution_count": 38
        },
        {
          "output_type": "display_data",
          "data": {
            "text/plain": [
              "<Figure size 432x288 with 2 Axes>"
            ],
            "image/png": "[encoded data removed]"
          },
          "metadata": {
            "needs_background": "light"
          }
        }
      ]
    },
    {
      "cell_type": "code",
      "source": [
        "cm = confusion_matrix(y_test_labels, y_pred)\n",
        "TN = cm[0][0]\n",
        "FN = cm[1][0]\n",
        "TP = cm[1][1]\n",
        "FP = cm[0][1]\n",
        "\n",
        "# we use the WACC matric from the article\n",
        "# http://store.ectap.ro/articole/1421.pdf\n",
        "\n",
        "WACC = 0.25*(TP/(TP+FN))+0.75*(TN/(TN+FP)) \n",
        "print('The WACC rank of our model is: '+str(WACC))"
      ],
      "metadata": {
        "pycharm": {
          "name": "#%%\n",
          "is_executing": true
        },
        "jupyter": {
          "outputs_hidden": false
        },
        "trusted": true,
        "colab": {
          "base_uri": "https://localhost:8080/"
        },
        "id": "HsgEbYiqRXl8",
        "outputId": "71125cd1-c6e5-4290-90e8-e25ea1548473"
      },
      "execution_count": 39,
      "outputs": [
        {
          "output_type": "stream",
          "name": "stdout",
          "text": [
            "The WACC rank of our model is: 0.9641048605081529\n"
          ]
        }
      ]
    }
  ]
}